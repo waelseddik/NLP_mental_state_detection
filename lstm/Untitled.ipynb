{
 "cells": [
  {
   "cell_type": "code",
   "execution_count": 1,
   "id": "f33d9e7a",
   "metadata": {},
   "outputs": [],
   "source": [
    "import pandas as pd\n",
    "import numpy as np\n",
    "import re\n",
    "import string\n",
    "import urllib.request\n",
    "import requests\n",
    "import bs4 as bs\n",
    "from nltk.corpus import stopwords\n",
    "from keras.preprocessing.sequence import pad_sequences\n",
    "from keras.preprocessing.text import Tokenizer\n",
    "from sklearn.model_selection import  train_test_split\n",
    "from keras.models import Sequential,Model\n",
    "from keras.layers import LSTM, Dense, Bidirectional, Input,Dropout,BatchNormalization,CuDNNLSTM, GRU, CuDNNGRU, Embedding, GlobalMaxPooling1D, GlobalAveragePooling1D, Flatten\n",
    "from keras.layers import SpatialDropout1D\n",
    "from keras.callbacks import EarlyStopping\n",
    "import matplotlib.pyplot as plt"
   ]
  },
  {
   "cell_type": "markdown",
   "id": "371da0c4",
   "metadata": {},
   "source": [
    "# building a crawler to get insomnia data "
   ]
  },
  {
   "cell_type": "code",
   "execution_count": null,
   "id": "d0d064c8",
   "metadata": {},
   "outputs": [],
   "source": [
    "def getlinks(soup):\n",
    "    l = []\n",
    "    for link in soup.find_all('a',class_ = \"bbp-topic-permalink\",href = True):\n",
    "        l.append(link['href'][0:])\n",
    "        \n",
    "    return l\n",
    "\n",
    "def getdate(soup):\n",
    "    l = []\n",
    "    div = soup.find('span', class_ = 'bbp-reply-post-date')\n",
    "    return(div.text)\n",
    "#\n",
    "def getname(soup):\n",
    "    l = []\n",
    "    div = soup.find('a', class_ = 'bbp-author-name') \n",
    "    return([div.text])   \n",
    "#\n",
    "def gettext(soup):\n",
    "    p = soup.find_all('div', class_ = 'bbp-reply-content')\n",
    "    return p[1].text\n",
    "#\n",
    "\n",
    "sitelist = []\n",
    "site = 'https://insomniacoach.com/forums/id/insomnia-help'\n",
    "string = '/page/'\n",
    "hdr = {'User-Agent': 'Mozilla/5.0'}\n",
    "for i in range(1,197): \n",
    "    sitelist.append(site + string + str(i)+'/')\n",
    "\n",
    "dftoappend = pd.DataFrame()\n",
    "df = pd.DataFrame()\n",
    "\n",
    "for sites in sitelist:\n",
    "    print(sites)\n",
    "    request = Request(sites, headers=hdr)\n",
    "    sauce = urllib.request.urlopen(request)\n",
    "    soup = bs.BeautifulSoup(sauce,'html.parser')\n",
    "    links = getlinks(soup)\n",
    "    for link in links:\n",
    "        request1 = Request(link, headers=hdr)\n",
    "        sauce = urllib.request.urlopen(request1)\n",
    "        soup = bs.BeautifulSoup(sauce,'html.parser')\n",
    "        date = getdate(soup)\n",
    "        name = getname(soup)\n",
    "        text = gettext(soup)\n",
    "        d = [{'DATE' : date, 'NAME' : name, 'TEXT' : text, 'STATE' : \"insomnia\"}]\n",
    "        dftoappend = pd.DataFrame(d)\n",
    "        df = df.append(dftoappend,ignore_index = True)\n",
    "df.to_csv('insomnia.csv')"
   ]
  },
  {
   "cell_type": "markdown",
   "id": "a73e546e",
   "metadata": {},
   "source": [
    "# loading the other data "
   ]
  },
  {
   "cell_type": "code",
   "execution_count": 2,
   "id": "6108647d",
   "metadata": {},
   "outputs": [],
   "source": [
    "anxiety=pd.read_csv('anxiety.csv')\n",
    "depression=pd.read_csv('depression.csv')\n",
    "trauma=pd.read_csv('trauma.csv')\n",
    "suicidal_thoughts=pd.read_csv('suicidal_thoughts.csv')\n",
    "stress=pd.read_csv('stress.csv')\n",
    "neutral=pd.read_csv('neutral.csv')\n",
    "insomnia=pd.read_csv('insomnia.csv')"
   ]
  },
  {
   "cell_type": "code",
   "execution_count": 5,
   "id": "02f001fa",
   "metadata": {},
   "outputs": [
    {
     "data": {
      "text/html": [
       "<div>\n",
       "<style scoped>\n",
       "    .dataframe tbody tr th:only-of-type {\n",
       "        vertical-align: middle;\n",
       "    }\n",
       "\n",
       "    .dataframe tbody tr th {\n",
       "        vertical-align: top;\n",
       "    }\n",
       "\n",
       "    .dataframe thead th {\n",
       "        text-align: right;\n",
       "    }\n",
       "</style>\n",
       "<table border=\"1\" class=\"dataframe\">\n",
       "  <thead>\n",
       "    <tr style=\"text-align: right;\">\n",
       "      <th></th>\n",
       "      <th>Unnamed: 0.1</th>\n",
       "      <th>Unnamed: 0</th>\n",
       "      <th>DATE</th>\n",
       "      <th>NAME</th>\n",
       "      <th>TEXT</th>\n",
       "      <th>STATE</th>\n",
       "    </tr>\n",
       "  </thead>\n",
       "  <tbody>\n",
       "    <tr>\n",
       "      <th>0</th>\n",
       "      <td>0.0</td>\n",
       "      <td>0.0</td>\n",
       "      <td>\\n                            \\n              ...</td>\n",
       "      <td>['CMF']</td>\n",
       "      <td>\\nThere is a thread under Depression just like...</td>\n",
       "      <td>anxiety</td>\n",
       "    </tr>\n",
       "    <tr>\n",
       "      <th>1</th>\n",
       "      <td>1.0</td>\n",
       "      <td>1.0</td>\n",
       "      <td>\\n                            \\n              ...</td>\n",
       "      <td>['annabay']</td>\n",
       "      <td>\\nhey there, what physical symptoms of anxiety...</td>\n",
       "      <td>anxiety</td>\n",
       "    </tr>\n",
       "    <tr>\n",
       "      <th>2</th>\n",
       "      <td>2.0</td>\n",
       "      <td>2.0</td>\n",
       "      <td>\\n                            \\n              ...</td>\n",
       "      <td>['AGrace']</td>\n",
       "      <td>\\nHi Everyone,\\nHere are some ideas for helpin...</td>\n",
       "      <td>anxiety</td>\n",
       "    </tr>\n",
       "    <tr>\n",
       "      <th>3</th>\n",
       "      <td>3.0</td>\n",
       "      <td>3.0</td>\n",
       "      <td>\\n                            \\n              ...</td>\n",
       "      <td>['Lind779']</td>\n",
       "      <td>\\nHi everyone,\\nI would love to hear your stor...</td>\n",
       "      <td>anxiety</td>\n",
       "    </tr>\n",
       "    <tr>\n",
       "      <th>4</th>\n",
       "      <td>4.0</td>\n",
       "      <td>4.0</td>\n",
       "      <td>\\n                            \\n              ...</td>\n",
       "      <td>['Chris B']</td>\n",
       "      <td>\\nHi everyone, particularly any new members wh...</td>\n",
       "      <td>anxiety</td>\n",
       "    </tr>\n",
       "    <tr>\n",
       "      <th>...</th>\n",
       "      <td>...</td>\n",
       "      <td>...</td>\n",
       "      <td>...</td>\n",
       "      <td>...</td>\n",
       "      <td>...</td>\n",
       "      <td>...</td>\n",
       "    </tr>\n",
       "    <tr>\n",
       "      <th>33650</th>\n",
       "      <td>NaN</td>\n",
       "      <td>94448.0</td>\n",
       "      <td>none</td>\n",
       "      <td>['y11611']</td>\n",
       "      <td>They have an alright casino area, food wasn't ...</td>\n",
       "      <td>neutral</td>\n",
       "    </tr>\n",
       "    <tr>\n",
       "      <th>33651</th>\n",
       "      <td>NaN</td>\n",
       "      <td>94449.0</td>\n",
       "      <td>none</td>\n",
       "      <td>['y1234', 'y1235']</td>\n",
       "      <td>We went around lunchtime, but it wasn't very b...</td>\n",
       "      <td>neutral</td>\n",
       "    </tr>\n",
       "    <tr>\n",
       "      <th>33652</th>\n",
       "      <td>NaN</td>\n",
       "      <td>94450.0</td>\n",
       "      <td>none</td>\n",
       "      <td>['y2418', 'y8084']</td>\n",
       "      <td>We ordered the MTO breakfast with a pancake.</td>\n",
       "      <td>neutral</td>\n",
       "    </tr>\n",
       "    <tr>\n",
       "      <th>33653</th>\n",
       "      <td>NaN</td>\n",
       "      <td>94452.0</td>\n",
       "      <td>none</td>\n",
       "      <td>['y18958', 'y4005']</td>\n",
       "      <td>The only people in Vegas that aren't predators...</td>\n",
       "      <td>neutral</td>\n",
       "    </tr>\n",
       "    <tr>\n",
       "      <th>33654</th>\n",
       "      <td>NaN</td>\n",
       "      <td>94456.0</td>\n",
       "      <td>none</td>\n",
       "      <td>['y13964']</td>\n",
       "      <td>From September 2010 visit:\\n\\nDecided to dine ...</td>\n",
       "      <td>neutral</td>\n",
       "    </tr>\n",
       "  </tbody>\n",
       "</table>\n",
       "<p>51411 rows × 6 columns</p>\n",
       "</div>"
      ],
      "text/plain": [
       "       Unnamed: 0.1  Unnamed: 0  \\\n",
       "0               0.0         0.0   \n",
       "1               1.0         1.0   \n",
       "2               2.0         2.0   \n",
       "3               3.0         3.0   \n",
       "4               4.0         4.0   \n",
       "...             ...         ...   \n",
       "33650           NaN     94448.0   \n",
       "33651           NaN     94449.0   \n",
       "33652           NaN     94450.0   \n",
       "33653           NaN     94452.0   \n",
       "33654           NaN     94456.0   \n",
       "\n",
       "                                                    DATE                 NAME  \\\n",
       "0      \\n                            \\n              ...              ['CMF']   \n",
       "1      \\n                            \\n              ...          ['annabay']   \n",
       "2      \\n                            \\n              ...           ['AGrace']   \n",
       "3      \\n                            \\n              ...          ['Lind779']   \n",
       "4      \\n                            \\n              ...          ['Chris B']   \n",
       "...                                                  ...                  ...   \n",
       "33650                                               none           ['y11611']   \n",
       "33651                                               none   ['y1234', 'y1235']   \n",
       "33652                                               none   ['y2418', 'y8084']   \n",
       "33653                                               none  ['y18958', 'y4005']   \n",
       "33654                                               none           ['y13964']   \n",
       "\n",
       "                                                    TEXT    STATE  \n",
       "0      \\nThere is a thread under Depression just like...  anxiety  \n",
       "1      \\nhey there, what physical symptoms of anxiety...  anxiety  \n",
       "2      \\nHi Everyone,\\nHere are some ideas for helpin...  anxiety  \n",
       "3      \\nHi everyone,\\nI would love to hear your stor...  anxiety  \n",
       "4      \\nHi everyone, particularly any new members wh...  anxiety  \n",
       "...                                                  ...      ...  \n",
       "33650  They have an alright casino area, food wasn't ...  neutral  \n",
       "33651  We went around lunchtime, but it wasn't very b...  neutral  \n",
       "33652       We ordered the MTO breakfast with a pancake.  neutral  \n",
       "33653  The only people in Vegas that aren't predators...  neutral  \n",
       "33654  From September 2010 visit:\\n\\nDecided to dine ...  neutral  \n",
       "\n",
       "[51411 rows x 6 columns]"
      ]
     },
     "execution_count": 5,
     "metadata": {},
     "output_type": "execute_result"
    }
   ],
   "source": [
    "df=pd.concat([anxiety,depression,trauma,suicidal_thoughts,stress,insomnia,neutral])\n",
    "df"
   ]
  },
  {
   "cell_type": "markdown",
   "id": "d982e4c0",
   "metadata": {},
   "source": [
    "# cleaning the data"
   ]
  },
  {
   "cell_type": "code",
   "execution_count": 6,
   "id": "7e2ebcf0",
   "metadata": {},
   "outputs": [
    {
     "name": "stderr",
     "output_type": "stream",
     "text": [
      "C:\\Users\\waels\\AppData\\Local\\Temp/ipykernel_9812/3427233334.py:20: FutureWarning: The default value of regex will change from True to False in a future version.\n",
      "  df['TEXT'] = df['TEXT'].str.replace('\\d+', '')\n"
     ]
    }
   ],
   "source": [
    "df = df.reset_index(drop=True)\n",
    "REPLACE_BY_SPACE_RE = re.compile('[/(){}\\[\\]\\|@,;]')\n",
    "BAD_SYMBOLS_RE = re.compile('[^0-9a-z #+_]')\n",
    "STOPWORDS = set(stopwords.words('english'))\n",
    "\n",
    "def clean_text(text):\n",
    "    \"\"\"\n",
    "        text: a string\n",
    "        \n",
    "        return: modified initial string\n",
    "    \"\"\"\n",
    "    text = str(text).lower() # lowercase text\n",
    "    text = REPLACE_BY_SPACE_RE.sub(' ', text) # replace REPLACE_BY_SPACE_RE symbols by space in text. substitute the matched string in REPLACE_BY_SPACE_RE with space.\n",
    "    text = BAD_SYMBOLS_RE.sub('', text) # remove symbols which are in BAD_SYMBOLS_RE from text. substitute the matched string in BAD_SYMBOLS_RE with nothing. \n",
    "    text = text.replace('x', '')\n",
    "#    text = re.sub(r'\\W+', '', text)\n",
    "    text = ' '.join(word for word in text.split() if word not in STOPWORDS) # remove stopwors from text\n",
    "    return text\n",
    "df['TEXT'] = df['TEXT'].apply(clean_text)\n",
    "df['TEXT'] = df['TEXT'].str.replace('\\d+', '')"
   ]
  },
  {
   "cell_type": "code",
   "execution_count": 7,
   "id": "b777136d",
   "metadata": {},
   "outputs": [],
   "source": [
    "df.drop(columns = ['Unnamed: 0'],inplace = True)\n",
    "df.drop(columns = ['Unnamed: 0.1'],inplace = True)"
   ]
  },
  {
   "cell_type": "code",
   "execution_count": 8,
   "id": "3910b5b6",
   "metadata": {},
   "outputs": [
    {
     "data": {
      "text/html": [
       "<div>\n",
       "<style scoped>\n",
       "    .dataframe tbody tr th:only-of-type {\n",
       "        vertical-align: middle;\n",
       "    }\n",
       "\n",
       "    .dataframe tbody tr th {\n",
       "        vertical-align: top;\n",
       "    }\n",
       "\n",
       "    .dataframe thead th {\n",
       "        text-align: right;\n",
       "    }\n",
       "</style>\n",
       "<table border=\"1\" class=\"dataframe\">\n",
       "  <thead>\n",
       "    <tr style=\"text-align: right;\">\n",
       "      <th></th>\n",
       "      <th>DATE</th>\n",
       "      <th>NAME</th>\n",
       "      <th>TEXT</th>\n",
       "      <th>STATE</th>\n",
       "    </tr>\n",
       "  </thead>\n",
       "  <tbody>\n",
       "    <tr>\n",
       "      <th>0</th>\n",
       "      <td>\\n                            \\n              ...</td>\n",
       "      <td>['CMF']</td>\n",
       "      <td>thread depression like thought start aniety on...</td>\n",
       "      <td>anxiety</td>\n",
       "    </tr>\n",
       "    <tr>\n",
       "      <th>1</th>\n",
       "      <td>\\n                            \\n              ...</td>\n",
       "      <td>['annabay']</td>\n",
       "      <td>hey physical symptoms aniety eperience often f...</td>\n",
       "      <td>anxiety</td>\n",
       "    </tr>\n",
       "    <tr>\n",
       "      <th>2</th>\n",
       "      <td>\\n                            \\n              ...</td>\n",
       "      <td>['AGrace']</td>\n",
       "      <td>hi everyone ideas helping manage symptoms anie...</td>\n",
       "      <td>anxiety</td>\n",
       "    </tr>\n",
       "    <tr>\n",
       "      <th>3</th>\n",
       "      <td>\\n                            \\n              ...</td>\n",
       "      <td>['Lind779']</td>\n",
       "      <td>hi everyone would love hear stories overcome a...</td>\n",
       "      <td>anxiety</td>\n",
       "    </tr>\n",
       "    <tr>\n",
       "      <th>4</th>\n",
       "      <td>\\n                            \\n              ...</td>\n",
       "      <td>['Chris B']</td>\n",
       "      <td>hi everyone particularly new members may readi...</td>\n",
       "      <td>anxiety</td>\n",
       "    </tr>\n",
       "    <tr>\n",
       "      <th>...</th>\n",
       "      <td>...</td>\n",
       "      <td>...</td>\n",
       "      <td>...</td>\n",
       "      <td>...</td>\n",
       "    </tr>\n",
       "    <tr>\n",
       "      <th>51406</th>\n",
       "      <td>none</td>\n",
       "      <td>['y11611']</td>\n",
       "      <td>alright casino area food wasnt great rooms clean</td>\n",
       "      <td>neutral</td>\n",
       "    </tr>\n",
       "    <tr>\n",
       "      <th>51407</th>\n",
       "      <td>none</td>\n",
       "      <td>['y1234', 'y1235']</td>\n",
       "      <td>went around lunchtime wasnt busy</td>\n",
       "      <td>neutral</td>\n",
       "    </tr>\n",
       "    <tr>\n",
       "      <th>51408</th>\n",
       "      <td>none</td>\n",
       "      <td>['y2418', 'y8084']</td>\n",
       "      <td>ordered mto breakfast pancake</td>\n",
       "      <td>neutral</td>\n",
       "    </tr>\n",
       "    <tr>\n",
       "      <th>51409</th>\n",
       "      <td>none</td>\n",
       "      <td>['y18958', 'y4005']</td>\n",
       "      <td>people vegas arent predators moving game</td>\n",
       "      <td>neutral</td>\n",
       "    </tr>\n",
       "    <tr>\n",
       "      <th>51410</th>\n",
       "      <td>none</td>\n",
       "      <td>['y13964']</td>\n",
       "      <td>september  visitdecided dine spontaneously boy...</td>\n",
       "      <td>neutral</td>\n",
       "    </tr>\n",
       "  </tbody>\n",
       "</table>\n",
       "<p>51411 rows × 4 columns</p>\n",
       "</div>"
      ],
      "text/plain": [
       "                                                    DATE                 NAME  \\\n",
       "0      \\n                            \\n              ...              ['CMF']   \n",
       "1      \\n                            \\n              ...          ['annabay']   \n",
       "2      \\n                            \\n              ...           ['AGrace']   \n",
       "3      \\n                            \\n              ...          ['Lind779']   \n",
       "4      \\n                            \\n              ...          ['Chris B']   \n",
       "...                                                  ...                  ...   \n",
       "51406                                               none           ['y11611']   \n",
       "51407                                               none   ['y1234', 'y1235']   \n",
       "51408                                               none   ['y2418', 'y8084']   \n",
       "51409                                               none  ['y18958', 'y4005']   \n",
       "51410                                               none           ['y13964']   \n",
       "\n",
       "                                                    TEXT    STATE  \n",
       "0      thread depression like thought start aniety on...  anxiety  \n",
       "1      hey physical symptoms aniety eperience often f...  anxiety  \n",
       "2      hi everyone ideas helping manage symptoms anie...  anxiety  \n",
       "3      hi everyone would love hear stories overcome a...  anxiety  \n",
       "4      hi everyone particularly new members may readi...  anxiety  \n",
       "...                                                  ...      ...  \n",
       "51406   alright casino area food wasnt great rooms clean  neutral  \n",
       "51407                   went around lunchtime wasnt busy  neutral  \n",
       "51408                      ordered mto breakfast pancake  neutral  \n",
       "51409           people vegas arent predators moving game  neutral  \n",
       "51410  september  visitdecided dine spontaneously boy...  neutral  \n",
       "\n",
       "[51411 rows x 4 columns]"
      ]
     },
     "execution_count": 8,
     "metadata": {},
     "output_type": "execute_result"
    }
   ],
   "source": [
    "df"
   ]
  },
  {
   "cell_type": "markdown",
   "id": "3e132740",
   "metadata": {},
   "source": [
    "# tokenizing the data"
   ]
  },
  {
   "cell_type": "code",
   "execution_count": 9,
   "id": "6b8a3bb1",
   "metadata": {},
   "outputs": [
    {
     "name": "stdout",
     "output_type": "stream",
     "text": [
      "Found 68552 unique tokens.\n"
     ]
    }
   ],
   "source": [
    "# The maximum number of words to be used. (most frequent)\n",
    "MAX_NB_WORDS = 50000\n",
    "# Max number of words in each complaint.\n",
    "MAX_SEQUENCE_LENGTH = 250\n",
    "# This is fixed.\n",
    "EMBEDDING_DIM = 100\n",
    "tokenizer = Tokenizer(num_words=MAX_NB_WORDS, filters='!\"#$%&()*+,-./:;<=>?@[\\]^_`{|}~', lower=True)\n",
    "tokenizer.fit_on_texts(df['TEXT'].values)\n",
    "word_index = tokenizer.word_index\n",
    "print('Found %s unique tokens.' % len(word_index))\n"
   ]
  },
  {
   "cell_type": "code",
   "execution_count": 10,
   "id": "8c426a28",
   "metadata": {},
   "outputs": [
    {
     "name": "stdout",
     "output_type": "stream",
     "text": [
      "Shape of data tensor: (51411, 250)\n"
     ]
    }
   ],
   "source": [
    "X = tokenizer.texts_to_sequences(df['TEXT'].values)\n",
    "X = pad_sequences(X, maxlen=MAX_SEQUENCE_LENGTH)\n",
    "print('Shape of data tensor:', X.shape)"
   ]
  },
  {
   "cell_type": "code",
   "execution_count": 11,
   "id": "65f50344",
   "metadata": {},
   "outputs": [
    {
     "name": "stdout",
     "output_type": "stream",
     "text": [
      "Shape of label tensor: (51411, 7)\n"
     ]
    }
   ],
   "source": [
    "Y = pd.get_dummies(df['STATE']).values\n",
    "print('Shape of label tensor:', Y.shape)"
   ]
  },
  {
   "cell_type": "code",
   "execution_count": 12,
   "id": "8ec988cb",
   "metadata": {},
   "outputs": [
    {
     "name": "stdout",
     "output_type": "stream",
     "text": [
      "(46269, 250) (46269, 7)\n",
      "(5142, 250) (5142, 7)\n"
     ]
    }
   ],
   "source": [
    "X_train, X_test, Y_train, Y_test = train_test_split(X,Y, test_size = 0.10, random_state = 42)\n",
    "print(X_train.shape,Y_train.shape)\n",
    "print(X_test.shape,Y_test.shape)"
   ]
  },
  {
   "cell_type": "code",
   "execution_count": null,
   "id": "565f3eb8",
   "metadata": {},
   "outputs": [],
   "source": [
    "model = Sequential()\n",
    "model.add(Embedding(MAX_NB_WORDS, EMBEDDING_DIM, input_length=X.shape[1]))\n",
    "model.add(SpatialDropout1D(0.2))\n",
    "model.add(LSTM(100, dropout=0.2, recurrent_dropout=0.2))\n",
    "model.add(Dense(7, activation='softmax'))\n",
    "model.compile(loss='categorical_crossentropy', optimizer='adam', metrics=['accuracy'])\n",
    "\n",
    "epochs = 5\n",
    "batch_size = 64\n",
    "\n",
    "history = model.fit(X_train, Y_train, epochs=epochs, batch_size=batch_size,validation_split=0.1,callbacks=[EarlyStopping(monitor='val_loss', patience=3, min_delta=0.0001)])"
   ]
  },
  {
   "cell_type": "code",
   "execution_count": null,
   "id": "5deba716",
   "metadata": {},
   "outputs": [],
   "source": [
    "accr = model.evaluate(X_test,Y_test)\n",
    "print('Test set\\n  Loss: {:0.3f}\\n  Accuracy: {:0.3f}'.format(accr[0],accr[1]))"
   ]
  },
  {
   "cell_type": "code",
   "execution_count": null,
   "id": "59663853",
   "metadata": {},
   "outputs": [],
   "source": [
    "plt.title('Loss')\n",
    "plt.plot(history.history['loss'], label='train')\n",
    "plt.plot(history.history['val_loss'], label='test')\n",
    "plt.legend()\n",
    "plt.show();\n"
   ]
  },
  {
   "cell_type": "code",
   "execution_count": null,
   "id": "23d3079d",
   "metadata": {},
   "outputs": [],
   "source": [
    "plt.title('Accuracy')\n",
    "plt.plot(history.history['accuracy'], label='train')\n",
    "plt.plot(history.history['val_accuracy'], label='test')\n",
    "plt.legend()\n",
    "plt.show();"
   ]
  }
 ],
 "metadata": {
  "kernelspec": {
   "display_name": "Python 3 (ipykernel)",
   "language": "python",
   "name": "python3"
  },
  "language_info": {
   "codemirror_mode": {
    "name": "ipython",
    "version": 3
   },
   "file_extension": ".py",
   "mimetype": "text/x-python",
   "name": "python",
   "nbconvert_exporter": "python",
   "pygments_lexer": "ipython3",
   "version": "3.8.12"
  }
 },
 "nbformat": 4,
 "nbformat_minor": 5
}
